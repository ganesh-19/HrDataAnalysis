{
 "cells": [
  {
   "cell_type": "code",
   "execution_count": 5,
   "id": "forced-circuit",
   "metadata": {},
   "outputs": [],
   "source": [
    "from sklearn import svm\n",
    "from sklearn.model_selection import train_test_split\n",
    "from sklearn import metrics\n",
    "import pandas as pd\n",
    "import numpy as np\n",
    "import matplotlib.pyplot as plt"
   ]
  },
  {
   "cell_type": "code",
   "execution_count": 66,
   "id": "loving-hammer",
   "metadata": {},
   "outputs": [],
   "source": [
    "employee_data = pd.read_excel(\"hrdata.xls\")"
   ]
  },
  {
   "cell_type": "code",
   "execution_count": 67,
   "id": "funny-buffalo",
   "metadata": {},
   "outputs": [
    {
     "data": {
      "text/html": [
       "<div>\n",
       "<style scoped>\n",
       "    .dataframe tbody tr th:only-of-type {\n",
       "        vertical-align: middle;\n",
       "    }\n",
       "\n",
       "    .dataframe tbody tr th {\n",
       "        vertical-align: top;\n",
       "    }\n",
       "\n",
       "    .dataframe thead th {\n",
       "        text-align: right;\n",
       "    }\n",
       "</style>\n",
       "<table border=\"1\" class=\"dataframe\">\n",
       "  <thead>\n",
       "    <tr style=\"text-align: right;\">\n",
       "      <th></th>\n",
       "      <th>age</th>\n",
       "      <th>co_education</th>\n",
       "      <th>gender</th>\n",
       "      <th>work_experience</th>\n",
       "      <th>education</th>\n",
       "      <th>place</th>\n",
       "      <th>diversity_rating</th>\n",
       "      <th>Classifier</th>\n",
       "    </tr>\n",
       "  </thead>\n",
       "  <tbody>\n",
       "    <tr>\n",
       "      <th>0</th>\n",
       "      <td>18-20</td>\n",
       "      <td>No</td>\n",
       "      <td>Female</td>\n",
       "      <td>0-2</td>\n",
       "      <td>Below SSLC</td>\n",
       "      <td>Town</td>\n",
       "      <td>2.92</td>\n",
       "      <td>0</td>\n",
       "    </tr>\n",
       "    <tr>\n",
       "      <th>1</th>\n",
       "      <td>21-30</td>\n",
       "      <td>Yes</td>\n",
       "      <td>Female</td>\n",
       "      <td>10-15</td>\n",
       "      <td>SSLC</td>\n",
       "      <td>Town</td>\n",
       "      <td>3.46</td>\n",
       "      <td>1</td>\n",
       "    </tr>\n",
       "    <tr>\n",
       "      <th>2</th>\n",
       "      <td>31-40</td>\n",
       "      <td>No</td>\n",
       "      <td>Male</td>\n",
       "      <td>5-10</td>\n",
       "      <td>SSLC</td>\n",
       "      <td>Town</td>\n",
       "      <td>2.69</td>\n",
       "      <td>0</td>\n",
       "    </tr>\n",
       "    <tr>\n",
       "      <th>3</th>\n",
       "      <td>31-40</td>\n",
       "      <td>Yes</td>\n",
       "      <td>Male</td>\n",
       "      <td>5-10</td>\n",
       "      <td>HSC</td>\n",
       "      <td>Town</td>\n",
       "      <td>3.15</td>\n",
       "      <td>1</td>\n",
       "    </tr>\n",
       "    <tr>\n",
       "      <th>4</th>\n",
       "      <td>21-30</td>\n",
       "      <td>Yes</td>\n",
       "      <td>Female</td>\n",
       "      <td>2-5</td>\n",
       "      <td>HSC</td>\n",
       "      <td>Town</td>\n",
       "      <td>3.31</td>\n",
       "      <td>1</td>\n",
       "    </tr>\n",
       "  </tbody>\n",
       "</table>\n",
       "</div>"
      ],
      "text/plain": [
       "     age co_education  gender work_experience   education place  \\\n",
       "0  18-20           No  Female             0-2  Below SSLC  Town   \n",
       "1  21-30          Yes  Female           10-15        SSLC  Town   \n",
       "2  31-40           No    Male            5-10        SSLC  Town   \n",
       "3  31-40          Yes    Male            5-10         HSC  Town   \n",
       "4  21-30          Yes  Female             2-5         HSC  Town   \n",
       "\n",
       "   diversity_rating  Classifier  \n",
       "0              2.92           0  \n",
       "1              3.46           1  \n",
       "2              2.69           0  \n",
       "3              3.15           1  \n",
       "4              3.31           1  "
      ]
     },
     "execution_count": 67,
     "metadata": {},
     "output_type": "execute_result"
    }
   ],
   "source": [
    "employee_data.head()"
   ]
  },
  {
   "cell_type": "code",
   "execution_count": 68,
   "id": "operating-difficulty",
   "metadata": {},
   "outputs": [],
   "source": [
    "features = employee_data[['age', 'co_education','gender', 'work_experience', 'education', 'place']]\n",
    "label = employee_data['Classifier']"
   ]
  },
  {
   "cell_type": "code",
   "execution_count": 69,
   "id": "peripheral-wealth",
   "metadata": {},
   "outputs": [],
   "source": [
    "age_map = {'18-20':1, '21-30':2, '31-40':3, 'More than 40': 4}\n",
    "co_education_map = {'Yes':1, 'No':0}\n",
    "gender_map = {'Female':1, 'Male':0}\n",
    "work_experience_map = {'0-2':1, '0-5':2, '10-15':3, '2-5':4, '5-10':5, '6-10':6, 'More than 15':7}\n",
    "education_map = {'Below SSLC':1, 'HSC':2, 'SSLC':3, 'Under Graduate':4}\n",
    "place_map = {'City':1, 'Town':2, 'Village':3}"
   ]
  },
  {
   "cell_type": "code",
   "execution_count": 70,
   "id": "encouraging-venice",
   "metadata": {},
   "outputs": [
    {
     "name": "stderr",
     "output_type": "stream",
     "text": [
      "c:\\Users\\ganesh\\Anaconda3\\lib\\site-packages\\pandas\\core\\series.py:4582: SettingWithCopyWarning: \n",
      "A value is trying to be set on a copy of a slice from a DataFrame\n",
      "\n",
      "See the caveats in the documentation: https://pandas.pydata.org/pandas-docs/stable/user_guide/indexing.html#returning-a-view-versus-a-copy\n",
      "  method=method,\n"
     ]
    }
   ],
   "source": [
    "features.loc[:,'age'].replace(to_replace = age_map, inplace = True)\n",
    "features.loc[:,'co_education'].replace(to_replace = co_education_map, inplace = True)\n",
    "features.loc[:,'gender'].replace(to_replace = gender_map, inplace = True)\n",
    "features.loc[:,'work_experience'].replace(to_replace = work_experience_map, inplace = True)\n",
    "features.loc[:,'education'].replace(to_replace = education_map, inplace = True)\n",
    "features.loc[:,'place'].replace(to_replace = place_map, inplace = True)"
   ]
  },
  {
   "cell_type": "code",
   "execution_count": 71,
   "id": "amateur-insider",
   "metadata": {},
   "outputs": [
    {
     "data": {
      "text/html": [
       "<div>\n",
       "<style scoped>\n",
       "    .dataframe tbody tr th:only-of-type {\n",
       "        vertical-align: middle;\n",
       "    }\n",
       "\n",
       "    .dataframe tbody tr th {\n",
       "        vertical-align: top;\n",
       "    }\n",
       "\n",
       "    .dataframe thead th {\n",
       "        text-align: right;\n",
       "    }\n",
       "</style>\n",
       "<table border=\"1\" class=\"dataframe\">\n",
       "  <thead>\n",
       "    <tr style=\"text-align: right;\">\n",
       "      <th></th>\n",
       "      <th>age</th>\n",
       "      <th>co_education</th>\n",
       "      <th>gender</th>\n",
       "      <th>work_experience</th>\n",
       "      <th>education</th>\n",
       "      <th>place</th>\n",
       "    </tr>\n",
       "  </thead>\n",
       "  <tbody>\n",
       "    <tr>\n",
       "      <th>0</th>\n",
       "      <td>1</td>\n",
       "      <td>0</td>\n",
       "      <td>1</td>\n",
       "      <td>1</td>\n",
       "      <td>1</td>\n",
       "      <td>2</td>\n",
       "    </tr>\n",
       "    <tr>\n",
       "      <th>1</th>\n",
       "      <td>2</td>\n",
       "      <td>1</td>\n",
       "      <td>1</td>\n",
       "      <td>3</td>\n",
       "      <td>3</td>\n",
       "      <td>2</td>\n",
       "    </tr>\n",
       "    <tr>\n",
       "      <th>2</th>\n",
       "      <td>3</td>\n",
       "      <td>0</td>\n",
       "      <td>0</td>\n",
       "      <td>5</td>\n",
       "      <td>3</td>\n",
       "      <td>2</td>\n",
       "    </tr>\n",
       "    <tr>\n",
       "      <th>3</th>\n",
       "      <td>3</td>\n",
       "      <td>1</td>\n",
       "      <td>0</td>\n",
       "      <td>5</td>\n",
       "      <td>2</td>\n",
       "      <td>2</td>\n",
       "    </tr>\n",
       "    <tr>\n",
       "      <th>4</th>\n",
       "      <td>2</td>\n",
       "      <td>1</td>\n",
       "      <td>1</td>\n",
       "      <td>4</td>\n",
       "      <td>2</td>\n",
       "      <td>2</td>\n",
       "    </tr>\n",
       "    <tr>\n",
       "      <th>...</th>\n",
       "      <td>...</td>\n",
       "      <td>...</td>\n",
       "      <td>...</td>\n",
       "      <td>...</td>\n",
       "      <td>...</td>\n",
       "      <td>...</td>\n",
       "    </tr>\n",
       "    <tr>\n",
       "      <th>152</th>\n",
       "      <td>3</td>\n",
       "      <td>1</td>\n",
       "      <td>1</td>\n",
       "      <td>3</td>\n",
       "      <td>4</td>\n",
       "      <td>2</td>\n",
       "    </tr>\n",
       "    <tr>\n",
       "      <th>153</th>\n",
       "      <td>2</td>\n",
       "      <td>1</td>\n",
       "      <td>0</td>\n",
       "      <td>2</td>\n",
       "      <td>4</td>\n",
       "      <td>2</td>\n",
       "    </tr>\n",
       "    <tr>\n",
       "      <th>154</th>\n",
       "      <td>4</td>\n",
       "      <td>0</td>\n",
       "      <td>1</td>\n",
       "      <td>7</td>\n",
       "      <td>4</td>\n",
       "      <td>1</td>\n",
       "    </tr>\n",
       "    <tr>\n",
       "      <th>155</th>\n",
       "      <td>3</td>\n",
       "      <td>1</td>\n",
       "      <td>1</td>\n",
       "      <td>6</td>\n",
       "      <td>4</td>\n",
       "      <td>2</td>\n",
       "    </tr>\n",
       "    <tr>\n",
       "      <th>156</th>\n",
       "      <td>2</td>\n",
       "      <td>1</td>\n",
       "      <td>0</td>\n",
       "      <td>2</td>\n",
       "      <td>4</td>\n",
       "      <td>2</td>\n",
       "    </tr>\n",
       "  </tbody>\n",
       "</table>\n",
       "<p>157 rows × 6 columns</p>\n",
       "</div>"
      ],
      "text/plain": [
       "     age  co_education  gender  work_experience  education  place\n",
       "0      1             0       1                1          1      2\n",
       "1      2             1       1                3          3      2\n",
       "2      3             0       0                5          3      2\n",
       "3      3             1       0                5          2      2\n",
       "4      2             1       1                4          2      2\n",
       "..   ...           ...     ...              ...        ...    ...\n",
       "152    3             1       1                3          4      2\n",
       "153    2             1       0                2          4      2\n",
       "154    4             0       1                7          4      1\n",
       "155    3             1       1                6          4      2\n",
       "156    2             1       0                2          4      2\n",
       "\n",
       "[157 rows x 6 columns]"
      ]
     },
     "execution_count": 71,
     "metadata": {},
     "output_type": "execute_result"
    }
   ],
   "source": [
    "features"
   ]
  },
  {
   "cell_type": "code",
   "execution_count": 72,
   "id": "global-nature",
   "metadata": {},
   "outputs": [
    {
     "data": {
      "text/plain": [
       "<AxesSubplot:>"
      ]
     },
     "execution_count": 72,
     "metadata": {},
     "output_type": "execute_result"
    },
    {
     "data": {
      "image/png": "[encoded data removed]",
      "text/plain": [
       "<Figure size 432x360 with 1 Axes>"
      ]
     },
     "metadata": {
      "needs_background": "light"
     },
     "output_type": "display_data"
    }
   ],
   "source": [
    "features.plot(kind='box', figsize=(6,5))"
   ]
  },
  {
   "cell_type": "markdown",
   "id": "quarterly-array",
   "metadata": {},
   "source": [
    "### Normalising"
   ]
  },
  {
   "cell_type": "code",
   "execution_count": 73,
   "id": "damaged-blanket",
   "metadata": {},
   "outputs": [],
   "source": [
    "from sklearn.preprocessing import normalize\n",
    "features = normalize(features)"
   ]
  },
  {
   "cell_type": "code",
   "execution_count": 74,
   "id": "stone-negative",
   "metadata": {},
   "outputs": [
    {
     "data": {
      "text/plain": [
       "array([[0.35355339, 0.        , 0.35355339, 0.35355339, 0.35355339,\n",
       "        0.70710678],\n",
       "       [0.37796447, 0.18898224, 0.18898224, 0.56694671, 0.56694671,\n",
       "        0.37796447],\n",
       "       [0.43759497, 0.        , 0.        , 0.72932496, 0.43759497,\n",
       "        0.29172998],\n",
       "       [0.45749571, 0.15249857, 0.        , 0.76249285, 0.30499714,\n",
       "        0.30499714],\n",
       "       [0.36514837, 0.18257419, 0.18257419, 0.73029674, 0.36514837,\n",
       "        0.36514837],\n",
       "       [0.45883147, 0.        , 0.11470787, 0.80295507, 0.11470787,\n",
       "        0.3441236 ],\n",
       "       [0.37139068, 0.        , 0.18569534, 0.74278135, 0.37139068,\n",
       "        0.37139068],\n",
       "       [0.30151134, 0.        , 0.30151134, 0.30151134, 0.60302269,\n",
       "        0.60302269],\n",
       "       [0.36514837, 0.18257419, 0.18257419, 0.73029674, 0.36514837,\n",
       "        0.36514837],\n",
       "       [0.4330127 , 0.        , 0.14433757, 0.72168784, 0.28867513,\n",
       "        0.4330127 ],\n",
       "       [0.51639778, 0.25819889, 0.25819889, 0.25819889, 0.51639778,\n",
       "        0.51639778],\n",
       "       [0.2236068 , 0.        , 0.        , 0.2236068 , 0.67082039,\n",
       "        0.67082039],\n",
       "       [0.36514837, 0.18257419, 0.18257419, 0.73029674, 0.36514837,\n",
       "        0.36514837],\n",
       "       [0.18257419, 0.        , 0.        , 0.73029674, 0.54772256,\n",
       "        0.36514837],\n",
       "       [0.30499714, 0.        , 0.15249857, 0.76249285, 0.30499714,\n",
       "        0.45749571],\n",
       "       [0.28571429, 0.14285714, 0.14285714, 0.71428571, 0.42857143,\n",
       "        0.42857143],\n",
       "       [0.3592106 , 0.        , 0.1796053 , 0.71842121, 0.1796053 ,\n",
       "        0.53881591],\n",
       "       [0.21320072, 0.21320072, 0.21320072, 0.21320072, 0.63960215,\n",
       "        0.63960215],\n",
       "       [0.25      , 0.25      , 0.        , 0.25      , 0.5       ,\n",
       "        0.75      ],\n",
       "       [0.45883147, 0.22941573, 0.        , 0.22941573, 0.45883147,\n",
       "        0.6882472 ],\n",
       "       [0.32444284, 0.16222142, 0.        , 0.81110711, 0.32444284,\n",
       "        0.32444284],\n",
       "       [0.53033009, 0.1767767 , 0.        , 0.53033009, 0.53033009,\n",
       "        0.35355339],\n",
       "       [0.28867513, 0.28867513, 0.28867513, 0.28867513, 0.57735027,\n",
       "        0.57735027],\n",
       "       [0.39223227, 0.19611614, 0.        , 0.78446454, 0.39223227,\n",
       "        0.19611614],\n",
       "       [0.71842121, 0.        , 0.1796053 , 0.53881591, 0.1796053 ,\n",
       "        0.3592106 ],\n",
       "       [0.48038446, 0.        , 0.        , 0.80064077, 0.32025631,\n",
       "        0.16012815],\n",
       "       [0.39223227, 0.        , 0.19611614, 0.78446454, 0.39223227,\n",
       "        0.19611614],\n",
       "       [0.39223227, 0.        , 0.19611614, 0.78446454, 0.39223227,\n",
       "        0.19611614],\n",
       "       [0.45749571, 0.        , 0.15249857, 0.76249285, 0.30499714,\n",
       "        0.30499714],\n",
       "       [0.32879797, 0.        , 0.        , 0.82199494, 0.32879797,\n",
       "        0.32879797],\n",
       "       [0.3380617 , 0.16903085, 0.16903085, 0.6761234 , 0.50709255,\n",
       "        0.3380617 ],\n",
       "       [0.34815531, 0.        , 0.        , 0.69631062, 0.52223297,\n",
       "        0.34815531],\n",
       "       [0.25      , 0.25      , 0.        , 0.25      , 0.75      ,\n",
       "        0.5       ],\n",
       "       [0.3086067 , 0.        , 0.        , 0.77151675, 0.46291005,\n",
       "        0.3086067 ],\n",
       "       [0.37139068, 0.18569534, 0.        , 0.74278135, 0.37139068,\n",
       "        0.37139068],\n",
       "       [0.60302269, 0.        , 0.30151134, 0.30151134, 0.30151134,\n",
       "        0.60302269],\n",
       "       [0.26726124, 0.26726124, 0.26726124, 0.26726124, 0.80178373,\n",
       "        0.26726124],\n",
       "       [0.30499714, 0.15249857, 0.        , 0.76249285, 0.45749571,\n",
       "        0.30499714],\n",
       "       [0.34299717, 0.        , 0.17149859, 0.68599434, 0.51449576,\n",
       "        0.34299717],\n",
       "       [0.3380617 , 0.16903085, 0.16903085, 0.6761234 , 0.50709255,\n",
       "        0.3380617 ],\n",
       "       [0.45883147, 0.22941573, 0.        , 0.22941573, 0.6882472 ,\n",
       "        0.45883147],\n",
       "       [0.28867513, 0.28867513, 0.28867513, 0.57735027, 0.28867513,\n",
       "        0.57735027],\n",
       "       [0.57735027, 0.28867513, 0.28867513, 0.28867513, 0.57735027,\n",
       "        0.28867513],\n",
       "       [0.34299717, 0.17149859, 0.        , 0.68599434, 0.51449576,\n",
       "        0.34299717],\n",
       "       [0.34299717, 0.17149859, 0.        , 0.68599434, 0.51449576,\n",
       "        0.34299717],\n",
       "       [0.28571429, 0.14285714, 0.14285714, 0.71428571, 0.42857143,\n",
       "        0.42857143],\n",
       "       [0.32444284, 0.16222142, 0.        , 0.81110711, 0.32444284,\n",
       "        0.32444284],\n",
       "       [0.37139068, 0.18569534, 0.        , 0.74278135, 0.37139068,\n",
       "        0.37139068],\n",
       "       [0.3380617 , 0.16903085, 0.16903085, 0.6761234 , 0.50709255,\n",
       "        0.3380617 ],\n",
       "       [0.34299717, 0.17149859, 0.        , 0.68599434, 0.51449576,\n",
       "        0.34299717],\n",
       "       [0.2773501 , 0.2773501 , 0.        , 0.2773501 , 0.2773501 ,\n",
       "        0.83205029],\n",
       "       [0.16439899, 0.16439899, 0.16439899, 0.65759595, 0.49319696,\n",
       "        0.49319696],\n",
       "       [0.28867513, 0.14433757, 0.        , 0.72168784, 0.4330127 ,\n",
       "        0.4330127 ],\n",
       "       [0.37139068, 0.18569534, 0.        , 0.74278135, 0.37139068,\n",
       "        0.37139068],\n",
       "       [0.32444284, 0.        , 0.16222142, 0.81110711, 0.32444284,\n",
       "        0.32444284],\n",
       "       [0.37139068, 0.18569534, 0.        , 0.74278135, 0.37139068,\n",
       "        0.37139068],\n",
       "       [0.51639778, 0.25819889, 0.25819889, 0.25819889, 0.51639778,\n",
       "        0.51639778],\n",
       "       [0.3380617 , 0.16903085, 0.16903085, 0.6761234 , 0.50709255,\n",
       "        0.3380617 ],\n",
       "       [0.32444284, 0.        , 0.        , 0.64888568, 0.48666426,\n",
       "        0.48666426],\n",
       "       [0.33333333, 0.33333333, 0.33333333, 0.33333333, 0.66666667,\n",
       "        0.33333333],\n",
       "       [0.30151134, 0.30151134, 0.        , 0.60302269, 0.30151134,\n",
       "        0.60302269],\n",
       "       [0.27216553, 0.13608276, 0.        , 0.81649658, 0.40824829,\n",
       "        0.27216553],\n",
       "       [0.41702883, 0.20851441, 0.20851441, 0.41702883, 0.62554324,\n",
       "        0.41702883],\n",
       "       [0.38490018, 0.19245009, 0.        , 0.38490018, 0.57735027,\n",
       "        0.57735027],\n",
       "       [0.29172998, 0.14586499, 0.14586499, 0.87518995, 0.29172998,\n",
       "        0.14586499],\n",
       "       [0.26967994, 0.13483997, 0.13483997, 0.80903983, 0.40451992,\n",
       "        0.26967994],\n",
       "       [0.22941573, 0.22941573, 0.        , 0.45883147, 0.6882472 ,\n",
       "        0.45883147],\n",
       "       [0.33333333, 0.33333333, 0.33333333, 0.66666667, 0.33333333,\n",
       "        0.33333333],\n",
       "       [0.31622777, 0.15811388, 0.        , 0.79056942, 0.15811388,\n",
       "        0.47434165],\n",
       "       [0.47140452, 0.        , 0.        , 0.47140452, 0.23570226,\n",
       "        0.70710678],\n",
       "       [0.49319696, 0.16439899, 0.        , 0.49319696, 0.49319696,\n",
       "        0.49319696],\n",
       "       [0.32025631, 0.16012815, 0.        , 0.64051262, 0.48038446,\n",
       "        0.48038446],\n",
       "       [0.32025631, 0.16012815, 0.        , 0.64051262, 0.48038446,\n",
       "        0.48038446],\n",
       "       [0.53033009, 0.1767767 , 0.        , 0.53033009, 0.53033009,\n",
       "        0.35355339],\n",
       "       [0.6761234 , 0.        , 0.        , 0.50709255, 0.16903085,\n",
       "        0.50709255],\n",
       "       [0.45226702, 0.        , 0.        , 0.75377836, 0.15075567,\n",
       "        0.45226702],\n",
       "       [0.66666667, 0.16666667, 0.        , 0.5       , 0.16666667,\n",
       "        0.5       ],\n",
       "       [0.31622777, 0.15811388, 0.        , 0.79056942, 0.15811388,\n",
       "        0.47434165],\n",
       "       [0.34299717, 0.17149859, 0.        , 0.68599434, 0.51449576,\n",
       "        0.34299717],\n",
       "       [0.60999428, 0.15249857, 0.        , 0.60999428, 0.15249857,\n",
       "        0.45749571],\n",
       "       [0.4472136 , 0.1490712 , 0.        , 0.74535599, 0.1490712 ,\n",
       "        0.4472136 ],\n",
       "       [0.56011203, 0.        , 0.        , 0.70014004, 0.14002801,\n",
       "        0.42008403],\n",
       "       [0.55708601, 0.18569534, 0.        , 0.55708601, 0.18569534,\n",
       "        0.55708601],\n",
       "       [0.32025631, 0.16012815, 0.        , 0.64051262, 0.48038446,\n",
       "        0.48038446],\n",
       "       [0.34299717, 0.17149859, 0.        , 0.68599434, 0.51449576,\n",
       "        0.34299717],\n",
       "       [0.30499714, 0.15249857, 0.        , 0.76249285, 0.45749571,\n",
       "        0.30499714],\n",
       "       [0.47434165, 0.15811388, 0.        , 0.79056942, 0.15811388,\n",
       "        0.31622777],\n",
       "       [0.39223227, 0.19611614, 0.        , 0.78446454, 0.19611614,\n",
       "        0.39223227],\n",
       "       [0.30499714, 0.15249857, 0.        , 0.76249285, 0.45749571,\n",
       "        0.30499714],\n",
       "       [0.5547002 , 0.13867505, 0.        , 0.69337525, 0.13867505,\n",
       "        0.41602515],\n",
       "       [0.32444284, 0.        , 0.16222142, 0.81110711, 0.32444284,\n",
       "        0.32444284],\n",
       "       [0.31234752, 0.15617376, 0.15617376, 0.78086881, 0.15617376,\n",
       "        0.46852129],\n",
       "       [0.2773501 , 0.2773501 , 0.        , 0.2773501 , 0.83205029,\n",
       "        0.2773501 ],\n",
       "       [0.34299717, 0.        , 0.17149859, 0.68599434, 0.51449576,\n",
       "        0.34299717],\n",
       "       [0.4330127 , 0.14433757, 0.        , 0.72168784, 0.28867513,\n",
       "        0.4330127 ],\n",
       "       [0.63245553, 0.15811388, 0.15811388, 0.47434165, 0.47434165,\n",
       "        0.31622777],\n",
       "       [0.46188022, 0.        , 0.        , 0.80829038, 0.11547005,\n",
       "        0.34641016],\n",
       "       [0.32879797, 0.        , 0.        , 0.82199494, 0.32879797,\n",
       "        0.32879797],\n",
       "       [0.4       , 0.        , 0.        , 0.8       , 0.2       ,\n",
       "        0.4       ],\n",
       "       [0.37139068, 0.18569534, 0.        , 0.74278135, 0.37139068,\n",
       "        0.37139068],\n",
       "       [0.30499714, 0.15249857, 0.        , 0.76249285, 0.45749571,\n",
       "        0.30499714],\n",
       "       [0.54772256, 0.        , 0.        , 0.73029674, 0.18257419,\n",
       "        0.36514837],\n",
       "       [0.45749571, 0.15249857, 0.        , 0.76249285, 0.30499714,\n",
       "        0.30499714],\n",
       "       [0.16666667, 0.16666667, 0.        , 0.66666667, 0.5       ,\n",
       "        0.5       ],\n",
       "       [0.6761234 , 0.        , 0.        , 0.50709255, 0.16903085,\n",
       "        0.50709255],\n",
       "       [0.34299717, 0.17149859, 0.        , 0.68599434, 0.51449576,\n",
       "        0.34299717],\n",
       "       [0.34299717, 0.17149859, 0.        , 0.68599434, 0.51449576,\n",
       "        0.34299717],\n",
       "       [0.34299717, 0.17149859, 0.        , 0.68599434, 0.51449576,\n",
       "        0.34299717],\n",
       "       [0.45226702, 0.        , 0.        , 0.75377836, 0.15075567,\n",
       "        0.45226702],\n",
       "       [0.54772256, 0.        , 0.        , 0.73029674, 0.18257419,\n",
       "        0.36514837],\n",
       "       [0.50709255, 0.        , 0.        , 0.6761234 , 0.16903085,\n",
       "        0.50709255],\n",
       "       [0.6761234 , 0.        , 0.        , 0.50709255, 0.16903085,\n",
       "        0.50709255],\n",
       "       [0.45883147, 0.22941573, 0.        , 0.6882472 , 0.22941573,\n",
       "        0.45883147],\n",
       "       [0.34299717, 0.17149859, 0.        , 0.68599434, 0.51449576,\n",
       "        0.34299717],\n",
       "       [0.42640143, 0.21320072, 0.        , 0.63960215, 0.42640143,\n",
       "        0.42640143],\n",
       "       [0.45226702, 0.        , 0.        , 0.75377836, 0.15075567,\n",
       "        0.45226702],\n",
       "       [0.25      , 0.25      , 0.        , 0.25      , 0.75      ,\n",
       "        0.5       ],\n",
       "       [0.34299717, 0.17149859, 0.        , 0.68599434, 0.51449576,\n",
       "        0.34299717],\n",
       "       [0.41602515, 0.13867505, 0.        , 0.69337525, 0.5547002 ,\n",
       "        0.13867505],\n",
       "       [0.58345997, 0.14586499, 0.14586499, 0.58345997, 0.43759497,\n",
       "        0.29172998],\n",
       "       [0.35355339, 0.        , 0.35355339, 0.35355339, 0.70710678,\n",
       "        0.35355339],\n",
       "       [0.5       , 0.16666667, 0.        , 0.66666667, 0.16666667,\n",
       "        0.5       ],\n",
       "       [0.61237244, 0.20412415, 0.        , 0.20412415, 0.61237244,\n",
       "        0.40824829],\n",
       "       [0.57735027, 0.14433757, 0.14433757, 0.72168784, 0.28867513,\n",
       "        0.14433757],\n",
       "       [0.50709255, 0.        , 0.        , 0.6761234 , 0.16903085,\n",
       "        0.50709255],\n",
       "       [0.52223297, 0.17407766, 0.17407766, 0.52223297, 0.52223297,\n",
       "        0.34815531],\n",
       "       [0.18898224, 0.18898224, 0.        , 0.75592895, 0.18898224,\n",
       "        0.56694671],\n",
       "       [0.3592106 , 0.        , 0.        , 0.89802651, 0.1796053 ,\n",
       "        0.1796053 ],\n",
       "       [0.50709255, 0.16903085, 0.16903085, 0.6761234 , 0.3380617 ,\n",
       "        0.3380617 ],\n",
       "       [0.15075567, 0.        , 0.        , 0.75377836, 0.45226702,\n",
       "        0.45226702],\n",
       "       [0.65759595, 0.        , 0.        , 0.65759595, 0.32879797,\n",
       "        0.16439899],\n",
       "       [0.5       , 0.25      , 0.        , 0.25      , 0.25      ,\n",
       "        0.75      ],\n",
       "       [0.30499714, 0.        , 0.15249857, 0.76249285, 0.45749571,\n",
       "        0.30499714],\n",
       "       [0.53881591, 0.1796053 , 0.        , 0.71842121, 0.3592106 ,\n",
       "        0.1796053 ],\n",
       "       [0.15811388, 0.        , 0.15811388, 0.79056942, 0.47434165,\n",
       "        0.31622777],\n",
       "       [0.6       , 0.2       , 0.2       , 0.6       , 0.4       ,\n",
       "        0.2       ],\n",
       "       [0.34299717, 0.        , 0.17149859, 0.68599434, 0.51449576,\n",
       "        0.34299717],\n",
       "       [0.51449576, 0.17149859, 0.        , 0.68599434, 0.34299717,\n",
       "        0.34299717],\n",
       "       [0.26726124, 0.26726124, 0.26726124, 0.26726124, 0.26726124,\n",
       "        0.80178373],\n",
       "       [0.36115756, 0.        , 0.12038585, 0.84270097, 0.36115756,\n",
       "        0.12038585],\n",
       "       [0.21821789, 0.21821789, 0.        , 0.21821789, 0.65465367,\n",
       "        0.65465367],\n",
       "       [0.32879797, 0.        , 0.        , 0.82199494, 0.32879797,\n",
       "        0.32879797],\n",
       "       [0.66666667, 0.16666667, 0.        , 0.5       , 0.5       ,\n",
       "        0.16666667],\n",
       "       [0.33333333, 0.33333333, 0.33333333, 0.33333333, 0.33333333,\n",
       "        0.66666667],\n",
       "       [0.51639778, 0.25819889, 0.25819889, 0.25819889, 0.51639778,\n",
       "        0.51639778],\n",
       "       [0.45749571, 0.        , 0.        , 0.60999428, 0.45749571,\n",
       "        0.45749571],\n",
       "       [0.33333333, 0.33333333, 0.33333333, 0.33333333, 0.66666667,\n",
       "        0.33333333],\n",
       "       [0.2773501 , 0.13867505, 0.13867505, 0.83205029, 0.41602515,\n",
       "        0.13867505],\n",
       "       [0.28005602, 0.        , 0.14002801, 0.84016805, 0.42008403,\n",
       "        0.14002801],\n",
       "       [0.29488391, 0.        , 0.14744196, 0.88465174, 0.29488391,\n",
       "        0.14744196],\n",
       "       [0.36514837, 0.18257419, 0.18257419, 0.36514837, 0.73029674,\n",
       "        0.36514837],\n",
       "       [0.19611614, 0.19611614, 0.        , 0.39223227, 0.78446454,\n",
       "        0.39223227],\n",
       "       [0.47434165, 0.15811388, 0.15811388, 0.47434165, 0.63245553,\n",
       "        0.31622777],\n",
       "       [0.37139068, 0.18569534, 0.        , 0.37139068, 0.74278135,\n",
       "        0.37139068],\n",
       "       [0.43905704, 0.        , 0.10976426, 0.76834982, 0.43905704,\n",
       "        0.10976426],\n",
       "       [0.36650833, 0.12216944, 0.12216944, 0.73301667, 0.48867778,\n",
       "        0.24433889],\n",
       "       [0.37139068, 0.18569534, 0.        , 0.37139068, 0.74278135,\n",
       "        0.37139068]])"
      ]
     },
     "execution_count": 74,
     "metadata": {},
     "output_type": "execute_result"
    }
   ],
   "source": [
    "features"
   ]
  },
  {
   "cell_type": "code",
   "execution_count": 75,
   "id": "seeing-sense",
   "metadata": {},
   "outputs": [],
   "source": [
    "X = np.array(features)\n",
    "y = np.array(label)"
   ]
  },
  {
   "cell_type": "code",
   "execution_count": 76,
   "id": "critical-southeast",
   "metadata": {},
   "outputs": [
    {
     "data": {
      "text/plain": [
       "((157, 6), (157,))"
      ]
     },
     "execution_count": 76,
     "metadata": {},
     "output_type": "execute_result"
    }
   ],
   "source": [
    "X.shape, y.shape"
   ]
  },
  {
   "cell_type": "code",
   "execution_count": 77,
   "id": "durable-drove",
   "metadata": {},
   "outputs": [],
   "source": [
    "X_train, X_test, y_train,y_test = train_test_split(X,y, test_size=0.2)"
   ]
  },
  {
   "cell_type": "code",
   "execution_count": 78,
   "id": "narrow-hungary",
   "metadata": {},
   "outputs": [
    {
     "data": {
      "text/plain": [
       "((125, 6), (32, 6), (125,), (32,))"
      ]
     },
     "execution_count": 78,
     "metadata": {},
     "output_type": "execute_result"
    }
   ],
   "source": [
    "X_train.shape, X_test.shape, y_train.shape,y_test.shape"
   ]
  },
  {
   "cell_type": "code",
   "execution_count": 79,
   "id": "economic-reward",
   "metadata": {},
   "outputs": [],
   "source": [
    "svc = svm.SVC()"
   ]
  },
  {
   "cell_type": "code",
   "execution_count": 80,
   "id": "norman-korean",
   "metadata": {},
   "outputs": [
    {
     "data": {
      "text/plain": [
       "DecisionTreeRegressor(random_state=0)"
      ]
     },
     "execution_count": 80,
     "metadata": {},
     "output_type": "execute_result"
    }
   ],
   "source": [
    "from sklearn.tree import DecisionTreeRegressor\n",
    "regressor = DecisionTreeRegressor(random_state = 0)\n",
    "regressor.fit(X_train, y_train)"
   ]
  },
  {
   "cell_type": "code",
   "execution_count": 81,
   "id": "9477e2c0",
   "metadata": {},
   "outputs": [
    {
     "data": {
      "text/plain": [
       "array([1, 1, 0, 0, 0, 1, 1, 0, 0, 0, 0, 0, 1, 1, 1, 1, 0, 1, 1, 0, 0, 1,\n",
       "       0, 1, 0, 0, 0, 0, 1, 0, 1, 0], dtype=int64)"
      ]
     },
     "execution_count": 81,
     "metadata": {},
     "output_type": "execute_result"
    }
   ],
   "source": [
    "y_test"
   ]
  },
  {
   "cell_type": "code",
   "execution_count": 82,
   "id": "significant-chancellor",
   "metadata": {},
   "outputs": [
    {
     "name": "stdout",
     "output_type": "stream",
     "text": [
      "(32,) (32,)\n"
     ]
    },
    {
     "data": {
      "text/plain": [
       "0.625"
      ]
     },
     "execution_count": 82,
     "metadata": {},
     "output_type": "execute_result"
    }
   ],
   "source": [
    "y_pred = regressor.predict(X_test)\n",
    "print(y_pred.shape, y_test.shape)\n",
    "from sklearn.metrics import accuracy_score\n",
    "accuracy_score(np.round(y_test), np.round(y_pred))"
   ]
  },
  {
   "cell_type": "code",
   "execution_count": 83,
   "id": "2dedc479",
   "metadata": {},
   "outputs": [
    {
     "data": {
      "text/plain": [
       "LinearRegression()"
      ]
     },
     "execution_count": 83,
     "metadata": {},
     "output_type": "execute_result"
    }
   ],
   "source": [
    "from sklearn.linear_model import LinearRegression\n",
    "regressorLinear = LinearRegression()\n",
    "regressorLinear.fit(X_train, y_train)"
   ]
  },
  {
   "cell_type": "code",
   "execution_count": 84,
   "id": "ba34d8a9",
   "metadata": {},
   "outputs": [
    {
     "name": "stdout",
     "output_type": "stream",
     "text": [
      "(32,) (32,)\n"
     ]
    },
    {
     "data": {
      "text/plain": [
       "0.5625"
      ]
     },
     "execution_count": 84,
     "metadata": {},
     "output_type": "execute_result"
    }
   ],
   "source": [
    "y_pred = regressorLinear.predict(X_test)\n",
    "print(y_pred.shape, y_test.shape)\n",
    "accuracy_score(np.round(y_test), np.round(y_pred))"
   ]
  },
  {
   "cell_type": "code",
   "execution_count": null,
   "id": "854eeb46",
   "metadata": {},
   "outputs": [],
   "source": []
  }
 ],
 "metadata": {
  "kernelspec": {
   "display_name": "Python 3.6.12 ('base')",
   "language": "python",
   "name": "python3"
  },
  "language_info": {
   "codemirror_mode": {
    "name": "ipython",
    "version": 3
   },
   "file_extension": ".py",
   "mimetype": "text/x-python",
   "name": "python",
   "nbconvert_exporter": "python",
   "pygments_lexer": "ipython3",
   "version": "3.6.12"
  },
  "vscode": {
   "interpreter": {
    "hash": "758d30283f0e59f8edb3565e1d81aaa1a51427d3e4c30f4b0c7f5433c8b0a56b"
   }
  }
 },
 "nbformat": 4,
 "nbformat_minor": 5
}
